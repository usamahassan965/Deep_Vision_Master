{
  "nbformat": 4,
  "nbformat_minor": 0,
  "metadata": {
    "colab": {
      "provenance": []
    },
    "kernelspec": {
      "name": "python3",
      "display_name": "Python 3"
    },
    "accelerator": "GPU"
  },
  "cells": [
    {
      "cell_type": "markdown",
      "metadata": {
        "id": "d4JrmoO6rdCA"
      },
      "source": [
        "\n",
        "\n",
        "# **Regularisation in PyTorch - Part 2**\n",
        "### **Now we use a few Regularisation methods on our Fashion-MNIST CNN**\n",
        "\n",
        "![](https://github.com/rajeevratan84/ModernComputerVision/raw/main/CleanShot%202020-12-02%20at%204.01.54%402x.png)\n",
        "---\n",
        "\n",
        "\n",
        "\n",
        "---\n",
        "\n",
        "\n",
        "In this lesson, we first learn to create a **simple Convolutional Neural Network model** in PyTorch and train it to **classify images in the Fashion-MNIST Dataset**, now **WITH** the use of any regularisation methods. \n",
        "1. Import PyTorch libraries, define our Transformers, Load our dataset and Visualize our images.\n",
        "2. Build a Simple CNN with the following **Regularisation** methods:\n",
        "  - L2 Regularisation\n",
        "  - Data Augmentation\n",
        "  - Dropout\n",
        "  - BatchNorm\n",
        "3. Training our CNN with Regularisation\n"
      ]
    },
    {
      "cell_type": "markdown",
      "metadata": {
        "id": "Jzbo-qJUcC4O"
      },
      "source": [
        "# **1. Import PyTorch libraries, Define Transfomers and Load & Visualise Dataset**"
      ]
    },
    {
      "cell_type": "code",
      "metadata": {
        "colab": {
          "base_uri": "https://localhost:8080/"
        },
        "id": "ioFE_3VMrd5K",
        "outputId": "f659e0c1-6bfb-44b2-eb3d-8d8764db8c29"
      },
      "source": [
        "# Import PyTorch\n",
        "import torch\n",
        "import PIL\n",
        "import numpy as np\n",
        "\n",
        "# We use torchvision to get our dataset and useful image transformations\n",
        "import torchvision\n",
        "import torchvision.transforms as transforms\n",
        "\n",
        "# Import PyTorch's optimization libary and nn\n",
        "# nn is used as the basic building block for our Network graphs\n",
        "import torch.optim as optim\n",
        "import torch.nn as nn\n",
        "\n",
        "# Are we using our GPU?\n",
        "print(\"GPU available: {}\".format(torch.cuda.is_available()))"
      ],
      "execution_count": 1,
      "outputs": [
        {
          "output_type": "stream",
          "name": "stdout",
          "text": [
            "GPU available: True\n"
          ]
        }
      ]
    },
    {
      "cell_type": "code",
      "metadata": {
        "id": "9onF9LPFwkfP"
      },
      "source": [
        "device = 'cuda' #'cpu' if no GPU available"
      ],
      "execution_count": 6,
      "outputs": []
    },
    {
      "cell_type": "markdown",
      "metadata": {
        "id": "hG-JTGzowyCT"
      },
      "source": [
        "# **2. Building a CNN with Regulisation**\n",
        "## **Implementing Data Augmentation**\n",
        "\n",
        "#### **Understanding What Our Transforms Do**\n",
        "\n",
        "1. Our Transforms are applied to an image or batch of images everytime it's loaded.\n",
        "2. These new images aren't saved, they're generated or 'altered' everytime a batch is loaded\n",
        "\n",
        "#### **NOTE** \n",
        "\n",
        "We don't apply the same augmentations to our Test or Validation Datasets. Therefore, we keep separate transformation functions (see below) for our Train and Validation/Test data.\n",
        "\n",
        "## **Advance Technique**\n",
        "- https://albumentations.ai/#:~:text=Albumentations%20is%20a%20computer%20vision,competitions%2C%20and%20open%20source%20projects."
      ]
    },
    {
      "cell_type": "code",
      "metadata": {
        "id": "AdeYXRBwwmE6"
      },
      "source": [
        "data_transforms = {\n",
        "    'train': transforms.Compose([\n",
        "        # Note these are executed in the order they are called here\n",
        "        # Some of these transforms return a color image, hence why we need to convert\n",
        "        # the image back to grayscale\n",
        "        transforms.RandomAffine(degrees = 10, translate = (0.05,0.05), shear = 5), \n",
        "        transforms.ColorJitter(hue = .05, saturation = .05),\n",
        "        transforms.RandomHorizontalFlip(),\n",
        "        transforms.RandomRotation(15, interpolation = PIL.Image.BILINEAR),\n",
        "        transforms.Grayscale(num_output_channels = 1),\n",
        "        transforms.ToTensor(),\n",
        "        transforms.Normalize((0.5, ), (0.5, )),\n",
        "    ]),\n",
        "    'val': transforms.Compose([\n",
        "        transforms.ToTensor(),\n",
        "        transforms.Normalize((0.5, ), (0.5, ))\n",
        "    ])\n",
        "}"
      ],
      "execution_count": 3,
      "outputs": []
    },
    {
      "cell_type": "markdown",
      "metadata": {
        "id": "LgHVoukAe92n"
      },
      "source": [
        "### **Fetch and Create our Data Loaders**"
      ]
    },
    {
      "cell_type": "code",
      "metadata": {
        "colab": {
          "base_uri": "https://localhost:8080/"
        },
        "id": "2MYNrnfErYOb",
        "outputId": "a762422f-46e6-4766-c900-bd8bef07d4b9"
      },
      "source": [
        "# Load our Train Data and specify what transform to use when loading\n",
        "trainset = torchvision.datasets.FashionMNIST(root='./data', train=True,\n",
        "                                        download=True, transform=data_transforms['train'])\n",
        "\n",
        "# Load our Test Data and specify what transform to use when loading\n",
        "testset = torchvision.datasets.FashionMNIST(root='./data', train=False,\n",
        "                                       download=True, transform=data_transforms['val'])\n",
        "\n",
        "# Prepare train and test loader\n",
        "trainloader = torch.utils.data.DataLoader(trainset, batch_size=32,\n",
        "                                          shuffle=True, num_workers=2)\n",
        "\n",
        "testloader = torch.utils.data.DataLoader(testset, batch_size=32,\n",
        "                                         shuffle=False, num_workers=2)"
      ],
      "execution_count": 4,
      "outputs": [
        {
          "output_type": "stream",
          "name": "stdout",
          "text": [
            "Downloading http://fashion-mnist.s3-website.eu-central-1.amazonaws.com/train-images-idx3-ubyte.gz\n",
            "Downloading http://fashion-mnist.s3-website.eu-central-1.amazonaws.com/train-images-idx3-ubyte.gz to ./data/FashionMNIST/raw/train-images-idx3-ubyte.gz\n"
          ]
        },
        {
          "output_type": "stream",
          "name": "stderr",
          "text": [
            "100%|██████████| 26421880/26421880 [00:01<00:00, 15862373.95it/s]\n"
          ]
        },
        {
          "output_type": "stream",
          "name": "stdout",
          "text": [
            "Extracting ./data/FashionMNIST/raw/train-images-idx3-ubyte.gz to ./data/FashionMNIST/raw\n",
            "\n",
            "Downloading http://fashion-mnist.s3-website.eu-central-1.amazonaws.com/train-labels-idx1-ubyte.gz\n",
            "Downloading http://fashion-mnist.s3-website.eu-central-1.amazonaws.com/train-labels-idx1-ubyte.gz to ./data/FashionMNIST/raw/train-labels-idx1-ubyte.gz\n"
          ]
        },
        {
          "output_type": "stream",
          "name": "stderr",
          "text": [
            "100%|██████████| 29515/29515 [00:00<00:00, 270733.71it/s]\n"
          ]
        },
        {
          "output_type": "stream",
          "name": "stdout",
          "text": [
            "Extracting ./data/FashionMNIST/raw/train-labels-idx1-ubyte.gz to ./data/FashionMNIST/raw\n",
            "\n",
            "Downloading http://fashion-mnist.s3-website.eu-central-1.amazonaws.com/t10k-images-idx3-ubyte.gz\n",
            "Downloading http://fashion-mnist.s3-website.eu-central-1.amazonaws.com/t10k-images-idx3-ubyte.gz to ./data/FashionMNIST/raw/t10k-images-idx3-ubyte.gz\n"
          ]
        },
        {
          "output_type": "stream",
          "name": "stderr",
          "text": [
            "100%|██████████| 4422102/4422102 [00:00<00:00, 5010474.74it/s]\n"
          ]
        },
        {
          "output_type": "stream",
          "name": "stdout",
          "text": [
            "Extracting ./data/FashionMNIST/raw/t10k-images-idx3-ubyte.gz to ./data/FashionMNIST/raw\n",
            "\n",
            "Downloading http://fashion-mnist.s3-website.eu-central-1.amazonaws.com/t10k-labels-idx1-ubyte.gz\n",
            "Downloading http://fashion-mnist.s3-website.eu-central-1.amazonaws.com/t10k-labels-idx1-ubyte.gz to ./data/FashionMNIST/raw/t10k-labels-idx1-ubyte.gz\n"
          ]
        },
        {
          "output_type": "stream",
          "name": "stderr",
          "text": [
            "100%|██████████| 5148/5148 [00:00<00:00, 6403403.62it/s]"
          ]
        },
        {
          "output_type": "stream",
          "name": "stdout",
          "text": [
            "Extracting ./data/FashionMNIST/raw/t10k-labels-idx1-ubyte.gz to ./data/FashionMNIST/raw\n",
            "\n"
          ]
        },
        {
          "output_type": "stream",
          "name": "stderr",
          "text": [
            "\n"
          ]
        }
      ]
    },
    {
      "cell_type": "markdown",
      "metadata": {
        "id": "C1-eX3igw9pU"
      },
      "source": [
        "### **Adding Dropout**\n",
        "\n",
        "In Convolutional Neural Networks Dropout is commonly added after CONV-RELU Layers.\n",
        "\n",
        "E.g. CONV->RELU->**DROPOUT**\n",
        "\n",
        "#### **Dropout Recommendations** \n",
        "\n",
        "In CNN's values of 0.1 to 0.3 have been found to work well.\n",
        "\n",
        "### **Adding BatchNorm**\n",
        "\n",
        "In CNNs **BatchNorm** is best used between the Conv Layer and the activation function layer (ReLU)\n",
        "When used with Dropout, the recommended order is: \n",
        "\n",
        "CONV_1 -> **BatchNorm** -> ReLU -> Dropout - CONV_2\n",
        "\n",
        "**NOTE** BatchNorm's input arguement is the **output** size of the previous layer."
      ]
    },
    {
      "cell_type": "code",
      "metadata": {
        "colab": {
          "base_uri": "https://localhost:8080/"
        },
        "id": "eoMxlgjbw01i",
        "outputId": "4b059a50-c763-4f05-c80e-1fb8df38407d"
      },
      "source": [
        "import torch.nn as nn\n",
        "import torch.nn.functional as F\n",
        "\n",
        "class Net(nn.Module):\n",
        "    def __init__(self):\n",
        "        super(Net, self).__init__()\n",
        "        self.conv1 = nn.Conv2d(1, 32, 3)\n",
        "        # Adding BatchNorm, using 32 as the input since 32 was the output of our first Conv layer\n",
        "        self.conv1_bn = nn.BatchNorm2d(32)\n",
        "        self.conv2 = nn.Conv2d(32, 64, 3)\n",
        "        # Adding BatchNorm, using 64 as the input since 64 was the output of our first Conv layer\n",
        "        self.conv2_bn = nn.BatchNorm2d(64)\n",
        "        self.pool = nn.MaxPool2d(2, 2)\n",
        "        self.fc1 = nn.Linear(64 * 12 * 12, 128)\n",
        "        self.fc2 = nn.Linear(128, 10)\n",
        "        # Defining our dropout function with a rate of 0.2\n",
        "        # We can apply this after any layer, but it's best suited after ReLU\n",
        "        self.dropOut = nn.Dropout(0.2)\n",
        "\n",
        "    def forward(self, x):\n",
        "        x = F.relu(self.conv1_bn(self.conv1(x)))\n",
        "        x = self.dropOut(x)\n",
        "        x = self.dropOut(F.relu(self.conv2_bn(self.conv2(x))))\n",
        "\n",
        "        x = self.pool(x)\n",
        "        x = x.view(-1, 64 * 12 * 12)\n",
        "        x = F.relu(self.fc1(x))\n",
        "        x = self.fc2(x)\n",
        "        return x\n",
        "\n",
        "\n",
        "net = Net()\n",
        "net.to(device)"
      ],
      "execution_count": 7,
      "outputs": [
        {
          "output_type": "execute_result",
          "data": {
            "text/plain": [
              "Net(\n",
              "  (conv1): Conv2d(1, 32, kernel_size=(3, 3), stride=(1, 1))\n",
              "  (conv1_bn): BatchNorm2d(32, eps=1e-05, momentum=0.1, affine=True, track_running_stats=True)\n",
              "  (conv2): Conv2d(32, 64, kernel_size=(3, 3), stride=(1, 1))\n",
              "  (conv2_bn): BatchNorm2d(64, eps=1e-05, momentum=0.1, affine=True, track_running_stats=True)\n",
              "  (pool): MaxPool2d(kernel_size=2, stride=2, padding=0, dilation=1, ceil_mode=False)\n",
              "  (fc1): Linear(in_features=9216, out_features=128, bias=True)\n",
              "  (fc2): Linear(in_features=128, out_features=10, bias=True)\n",
              "  (dropOut): Dropout(p=0.2, inplace=False)\n",
              ")"
            ]
          },
          "metadata": {},
          "execution_count": 7
        }
      ]
    },
    {
      "cell_type": "markdown",
      "metadata": {
        "id": "U8HJL-zufHLy"
      },
      "source": [
        "### **Adding L2 Regularisation**\n",
        "\n",
        "\n",
        "L2 regularisation on the parameters/weights of the model is directly included in most optimizers, including optim.SGD.\n",
        "\n",
        "It can be controlled with the **weight_decay** parameter as can be seen in the [SGD documentation](http://pytorch.org/docs/optim.html#torch.optim.SGD).\n",
        "\n",
        "```weight_decay``` (**float**, optional) – weight decay *(L2 penalty) (default: 0)*\n",
        "\n",
        "**Good L2 Values range from 0.1 to 0.0001**\n",
        "\n",
        "**NOTE:**\n",
        "\n",
        " L1 regularization is not included by default in the optimizers, but could be added by including an extra loss nn.L1Loss in the weights of the model.\n",
        "\n"
      ]
    },
    {
      "cell_type": "code",
      "metadata": {
        "id": "qwPu7Lypw_lz"
      },
      "source": [
        "# We import our optimizer function\n",
        "import torch.optim as optim\n",
        "\n",
        "# We use Cross Entropy Loss as our loss function\n",
        "criterion = nn.CrossEntropyLoss()\n",
        "\n",
        "# For our gradient descent algorthim or Optimizer\n",
        "# We use Stochastic Gradient Descent (SGD) with a learning rate of 0.001\n",
        "# We set the momentum to be 0.9\n",
        "optimizer = optim.SGD(net.parameters(), lr=0.001, momentum=0.9, weight_decay = 0.001)"
      ],
      "execution_count": 8,
      "outputs": []
    },
    {
      "cell_type": "markdown",
      "metadata": {
        "id": "Ov3NJd9dzlFo"
      },
      "source": [
        "# **3. Training Our Model Using Regulisation Methods - Data Augmentation, Dropout, BatchNorm & L2 Regularisation**"
      ]
    },
    {
      "cell_type": "code",
      "metadata": {
        "colab": {
          "base_uri": "https://localhost:8080/"
        },
        "id": "WmhtkEpMxCJs",
        "outputId": "468ddf7a-89ed-438d-e88e-7b14f9966d0a"
      },
      "source": [
        "# We loop over the traing dataset multiple times (each time is called an epoch)\n",
        "epochs = 10\n",
        "\n",
        "# Create some empty arrays to store logs \n",
        "epoch_log = []\n",
        "loss_log = []\n",
        "accuracy_log = []\n",
        "\n",
        "# Iterate for a specified number of epochs\n",
        "for epoch in range(epochs):  \n",
        "    print(f'Starting Epoch: {epoch+1}...')\n",
        "\n",
        "    # We keep adding or accumulating our loss after each mini-batch in running_loss\n",
        "    running_loss = 0.0\n",
        "\n",
        "    # We iterate through our trainloader iterator\n",
        "    # Each cycle is a minibatch\n",
        "    for i, data in enumerate(trainloader, 0):\n",
        "        # get the inputs; data is a list of [inputs, labels]\n",
        "        inputs, labels = data\n",
        "\n",
        "        # Move our data to GPU\n",
        "        inputs = inputs.to(device)\n",
        "        labels = labels.to(device)\n",
        "\n",
        "        # Clear the gradients before training by setting to zero\n",
        "        # Required for a fresh start\n",
        "        optimizer.zero_grad()\n",
        "\n",
        "        # Forward -> backprop + optimize\n",
        "        outputs = net(inputs) # Forward Propagation \n",
        "        loss = criterion(outputs, labels) # Get Loss (quantify the difference between the results and predictions)\n",
        "        loss.backward() # Back propagate to obtain the new gradients for all nodes\n",
        "        optimizer.step() # Update the gradients/weights\n",
        "\n",
        "        # Print Training statistics - Epoch/Iterations/Loss/Accurachy\n",
        "        running_loss += loss.item()\n",
        "        if i % 100 == 99:    # show our loss every 50 mini-batches\n",
        "            correct = 0 # Initialize our variable to hold the count for the correct predictions\n",
        "            total = 0 # Initialize our variable to hold the count of the number of labels iterated\n",
        "\n",
        "            # We don't need gradients for validation, so wrap in \n",
        "            # no_grad to save memory\n",
        "            with torch.no_grad():\n",
        "                # Iterate through the testloader iterator\n",
        "                for data in testloader:\n",
        "                    images, labels = data\n",
        "                    # Move our data to GPU\n",
        "                    images = images.to(device)\n",
        "                    labels = labels.to(device)\n",
        "                    \n",
        "                    # Foward propagate our test data batch through our model\n",
        "                    outputs = net(images)\n",
        "\n",
        "                     # Get predictions from the maximum value\n",
        "                    _, predicted = torch.max(outputs.data, 1)\n",
        "                    # Keep adding the label size or length to the total variable\n",
        "                    total += labels.size(0)\n",
        "                    # Keep a running total of the number of predictions predicted correctly\n",
        "                    correct += (predicted == labels).sum().item()\n",
        "\n",
        "                accuracy = 100 * correct / total\n",
        "                epoch_num = epoch + 1\n",
        "                actual_loss = running_loss / 50\n",
        "                print(f'Epoch: {epoch_num}, Mini-Batches Completed: {(i+1)}, Loss: {actual_loss:.3f}, Test Accuracy = {accuracy:.3f}%')\n",
        "                running_loss = 0.0\n",
        "\n",
        "    # Store training stats after each epoch\n",
        "    epoch_log.append(epoch_num)\n",
        "    loss_log.append(actual_loss)\n",
        "    accuracy_log.append(accuracy)\n",
        "\n",
        "print('Finished Training')"
      ],
      "execution_count": 9,
      "outputs": [
        {
          "output_type": "stream",
          "name": "stdout",
          "text": [
            "Starting Epoch: 1...\n",
            "Epoch: 1, Mini-Batches Completed: 100, Loss: 2.498, Test Accuracy = 70.070%\n",
            "Epoch: 1, Mini-Batches Completed: 200, Loss: 1.664, Test Accuracy = 74.260%\n",
            "Epoch: 1, Mini-Batches Completed: 300, Loss: 1.413, Test Accuracy = 76.500%\n",
            "Epoch: 1, Mini-Batches Completed: 400, Loss: 1.451, Test Accuracy = 78.680%\n",
            "Epoch: 1, Mini-Batches Completed: 500, Loss: 1.326, Test Accuracy = 78.870%\n",
            "Epoch: 1, Mini-Batches Completed: 600, Loss: 1.242, Test Accuracy = 79.600%\n",
            "Epoch: 1, Mini-Batches Completed: 700, Loss: 1.203, Test Accuracy = 77.500%\n",
            "Epoch: 1, Mini-Batches Completed: 800, Loss: 1.243, Test Accuracy = 78.280%\n",
            "Epoch: 1, Mini-Batches Completed: 900, Loss: 1.158, Test Accuracy = 81.140%\n",
            "Epoch: 1, Mini-Batches Completed: 1000, Loss: 1.138, Test Accuracy = 80.960%\n",
            "Epoch: 1, Mini-Batches Completed: 1100, Loss: 1.177, Test Accuracy = 79.640%\n",
            "Epoch: 1, Mini-Batches Completed: 1200, Loss: 1.256, Test Accuracy = 81.620%\n",
            "Epoch: 1, Mini-Batches Completed: 1300, Loss: 1.184, Test Accuracy = 82.030%\n",
            "Epoch: 1, Mini-Batches Completed: 1400, Loss: 1.148, Test Accuracy = 82.040%\n",
            "Epoch: 1, Mini-Batches Completed: 1500, Loss: 1.115, Test Accuracy = 82.590%\n",
            "Epoch: 1, Mini-Batches Completed: 1600, Loss: 1.081, Test Accuracy = 81.110%\n",
            "Epoch: 1, Mini-Batches Completed: 1700, Loss: 1.068, Test Accuracy = 82.600%\n",
            "Epoch: 1, Mini-Batches Completed: 1800, Loss: 1.105, Test Accuracy = 81.910%\n",
            "Starting Epoch: 2...\n",
            "Epoch: 2, Mini-Batches Completed: 100, Loss: 1.036, Test Accuracy = 83.970%\n",
            "Epoch: 2, Mini-Batches Completed: 200, Loss: 1.037, Test Accuracy = 83.150%\n",
            "Epoch: 2, Mini-Batches Completed: 300, Loss: 1.035, Test Accuracy = 83.620%\n",
            "Epoch: 2, Mini-Batches Completed: 400, Loss: 1.059, Test Accuracy = 83.250%\n",
            "Epoch: 2, Mini-Batches Completed: 500, Loss: 1.014, Test Accuracy = 82.890%\n",
            "Epoch: 2, Mini-Batches Completed: 600, Loss: 1.024, Test Accuracy = 82.190%\n",
            "Epoch: 2, Mini-Batches Completed: 700, Loss: 0.998, Test Accuracy = 84.940%\n",
            "Epoch: 2, Mini-Batches Completed: 800, Loss: 0.997, Test Accuracy = 83.660%\n",
            "Epoch: 2, Mini-Batches Completed: 900, Loss: 0.996, Test Accuracy = 83.950%\n",
            "Epoch: 2, Mini-Batches Completed: 1000, Loss: 1.007, Test Accuracy = 83.840%\n",
            "Epoch: 2, Mini-Batches Completed: 1100, Loss: 0.985, Test Accuracy = 84.600%\n",
            "Epoch: 2, Mini-Batches Completed: 1200, Loss: 0.972, Test Accuracy = 85.420%\n",
            "Epoch: 2, Mini-Batches Completed: 1300, Loss: 0.938, Test Accuracy = 82.370%\n",
            "Epoch: 2, Mini-Batches Completed: 1400, Loss: 0.937, Test Accuracy = 85.530%\n",
            "Epoch: 2, Mini-Batches Completed: 1500, Loss: 0.908, Test Accuracy = 83.530%\n",
            "Epoch: 2, Mini-Batches Completed: 1600, Loss: 0.955, Test Accuracy = 85.320%\n",
            "Epoch: 2, Mini-Batches Completed: 1700, Loss: 0.967, Test Accuracy = 85.290%\n",
            "Epoch: 2, Mini-Batches Completed: 1800, Loss: 0.909, Test Accuracy = 85.210%\n",
            "Starting Epoch: 3...\n",
            "Epoch: 3, Mini-Batches Completed: 100, Loss: 0.946, Test Accuracy = 84.800%\n",
            "Epoch: 3, Mini-Batches Completed: 200, Loss: 0.881, Test Accuracy = 85.380%\n",
            "Epoch: 3, Mini-Batches Completed: 300, Loss: 0.888, Test Accuracy = 85.160%\n",
            "Epoch: 3, Mini-Batches Completed: 400, Loss: 0.916, Test Accuracy = 85.150%\n",
            "Epoch: 3, Mini-Batches Completed: 500, Loss: 0.969, Test Accuracy = 85.590%\n",
            "Epoch: 3, Mini-Batches Completed: 600, Loss: 0.914, Test Accuracy = 84.480%\n",
            "Epoch: 3, Mini-Batches Completed: 700, Loss: 0.876, Test Accuracy = 86.300%\n",
            "Epoch: 3, Mini-Batches Completed: 800, Loss: 0.881, Test Accuracy = 84.920%\n",
            "Epoch: 3, Mini-Batches Completed: 900, Loss: 0.838, Test Accuracy = 84.300%\n",
            "Epoch: 3, Mini-Batches Completed: 1000, Loss: 0.869, Test Accuracy = 83.660%\n",
            "Epoch: 3, Mini-Batches Completed: 1100, Loss: 0.877, Test Accuracy = 86.180%\n",
            "Epoch: 3, Mini-Batches Completed: 1200, Loss: 0.879, Test Accuracy = 85.800%\n",
            "Epoch: 3, Mini-Batches Completed: 1300, Loss: 0.860, Test Accuracy = 86.370%\n",
            "Epoch: 3, Mini-Batches Completed: 1400, Loss: 0.906, Test Accuracy = 85.980%\n",
            "Epoch: 3, Mini-Batches Completed: 1500, Loss: 0.917, Test Accuracy = 85.560%\n",
            "Epoch: 3, Mini-Batches Completed: 1600, Loss: 0.883, Test Accuracy = 86.390%\n",
            "Epoch: 3, Mini-Batches Completed: 1700, Loss: 0.848, Test Accuracy = 85.770%\n",
            "Epoch: 3, Mini-Batches Completed: 1800, Loss: 0.840, Test Accuracy = 86.230%\n",
            "Starting Epoch: 4...\n",
            "Epoch: 4, Mini-Batches Completed: 100, Loss: 0.869, Test Accuracy = 86.550%\n",
            "Epoch: 4, Mini-Batches Completed: 200, Loss: 0.860, Test Accuracy = 87.110%\n",
            "Epoch: 4, Mini-Batches Completed: 300, Loss: 0.862, Test Accuracy = 85.980%\n",
            "Epoch: 4, Mini-Batches Completed: 400, Loss: 0.889, Test Accuracy = 86.330%\n",
            "Epoch: 4, Mini-Batches Completed: 500, Loss: 0.830, Test Accuracy = 86.830%\n",
            "Epoch: 4, Mini-Batches Completed: 600, Loss: 0.812, Test Accuracy = 86.520%\n",
            "Epoch: 4, Mini-Batches Completed: 700, Loss: 0.853, Test Accuracy = 87.040%\n",
            "Epoch: 4, Mini-Batches Completed: 800, Loss: 0.838, Test Accuracy = 86.350%\n",
            "Epoch: 4, Mini-Batches Completed: 900, Loss: 0.806, Test Accuracy = 86.680%\n",
            "Epoch: 4, Mini-Batches Completed: 1000, Loss: 0.811, Test Accuracy = 86.140%\n",
            "Epoch: 4, Mini-Batches Completed: 1100, Loss: 0.853, Test Accuracy = 87.050%\n",
            "Epoch: 4, Mini-Batches Completed: 1200, Loss: 0.800, Test Accuracy = 86.230%\n",
            "Epoch: 4, Mini-Batches Completed: 1300, Loss: 0.829, Test Accuracy = 86.810%\n",
            "Epoch: 4, Mini-Batches Completed: 1400, Loss: 0.789, Test Accuracy = 85.610%\n",
            "Epoch: 4, Mini-Batches Completed: 1500, Loss: 0.767, Test Accuracy = 87.130%\n",
            "Epoch: 4, Mini-Batches Completed: 1600, Loss: 0.809, Test Accuracy = 87.140%\n",
            "Epoch: 4, Mini-Batches Completed: 1700, Loss: 0.781, Test Accuracy = 87.270%\n",
            "Epoch: 4, Mini-Batches Completed: 1800, Loss: 0.843, Test Accuracy = 87.520%\n",
            "Starting Epoch: 5...\n",
            "Epoch: 5, Mini-Batches Completed: 100, Loss: 0.844, Test Accuracy = 87.220%\n",
            "Epoch: 5, Mini-Batches Completed: 200, Loss: 0.790, Test Accuracy = 87.350%\n",
            "Epoch: 5, Mini-Batches Completed: 300, Loss: 0.778, Test Accuracy = 87.320%\n",
            "Epoch: 5, Mini-Batches Completed: 400, Loss: 0.777, Test Accuracy = 86.300%\n",
            "Epoch: 5, Mini-Batches Completed: 500, Loss: 0.823, Test Accuracy = 87.600%\n",
            "Epoch: 5, Mini-Batches Completed: 600, Loss: 0.748, Test Accuracy = 86.500%\n",
            "Epoch: 5, Mini-Batches Completed: 700, Loss: 0.797, Test Accuracy = 86.320%\n",
            "Epoch: 5, Mini-Batches Completed: 800, Loss: 0.806, Test Accuracy = 86.870%\n",
            "Epoch: 5, Mini-Batches Completed: 900, Loss: 0.772, Test Accuracy = 87.630%\n",
            "Epoch: 5, Mini-Batches Completed: 1000, Loss: 0.800, Test Accuracy = 87.800%\n",
            "Epoch: 5, Mini-Batches Completed: 1100, Loss: 0.814, Test Accuracy = 87.130%\n",
            "Epoch: 5, Mini-Batches Completed: 1200, Loss: 0.777, Test Accuracy = 87.500%\n",
            "Epoch: 5, Mini-Batches Completed: 1300, Loss: 0.817, Test Accuracy = 87.110%\n",
            "Epoch: 5, Mini-Batches Completed: 1400, Loss: 0.777, Test Accuracy = 86.340%\n",
            "Epoch: 5, Mini-Batches Completed: 1500, Loss: 0.798, Test Accuracy = 86.820%\n",
            "Epoch: 5, Mini-Batches Completed: 1600, Loss: 0.754, Test Accuracy = 87.510%\n",
            "Epoch: 5, Mini-Batches Completed: 1700, Loss: 0.791, Test Accuracy = 87.280%\n",
            "Epoch: 5, Mini-Batches Completed: 1800, Loss: 0.762, Test Accuracy = 87.170%\n",
            "Starting Epoch: 6...\n",
            "Epoch: 6, Mini-Batches Completed: 100, Loss: 0.828, Test Accuracy = 87.320%\n",
            "Epoch: 6, Mini-Batches Completed: 200, Loss: 0.781, Test Accuracy = 87.890%\n",
            "Epoch: 6, Mini-Batches Completed: 300, Loss: 0.720, Test Accuracy = 87.200%\n",
            "Epoch: 6, Mini-Batches Completed: 400, Loss: 0.742, Test Accuracy = 87.530%\n",
            "Epoch: 6, Mini-Batches Completed: 500, Loss: 0.797, Test Accuracy = 87.880%\n",
            "Epoch: 6, Mini-Batches Completed: 600, Loss: 0.755, Test Accuracy = 88.000%\n",
            "Epoch: 6, Mini-Batches Completed: 700, Loss: 0.773, Test Accuracy = 87.490%\n",
            "Epoch: 6, Mini-Batches Completed: 800, Loss: 0.749, Test Accuracy = 87.820%\n",
            "Epoch: 6, Mini-Batches Completed: 900, Loss: 0.734, Test Accuracy = 88.040%\n",
            "Epoch: 6, Mini-Batches Completed: 1000, Loss: 0.769, Test Accuracy = 88.230%\n",
            "Epoch: 6, Mini-Batches Completed: 1100, Loss: 0.769, Test Accuracy = 88.020%\n",
            "Epoch: 6, Mini-Batches Completed: 1200, Loss: 0.789, Test Accuracy = 87.450%\n",
            "Epoch: 6, Mini-Batches Completed: 1300, Loss: 0.785, Test Accuracy = 86.910%\n",
            "Epoch: 6, Mini-Batches Completed: 1400, Loss: 0.710, Test Accuracy = 87.680%\n",
            "Epoch: 6, Mini-Batches Completed: 1500, Loss: 0.805, Test Accuracy = 87.870%\n",
            "Epoch: 6, Mini-Batches Completed: 1600, Loss: 0.780, Test Accuracy = 86.850%\n",
            "Epoch: 6, Mini-Batches Completed: 1700, Loss: 0.735, Test Accuracy = 87.730%\n",
            "Epoch: 6, Mini-Batches Completed: 1800, Loss: 0.717, Test Accuracy = 87.810%\n",
            "Starting Epoch: 7...\n",
            "Epoch: 7, Mini-Batches Completed: 100, Loss: 0.754, Test Accuracy = 87.750%\n",
            "Epoch: 7, Mini-Batches Completed: 200, Loss: 0.720, Test Accuracy = 88.380%\n",
            "Epoch: 7, Mini-Batches Completed: 300, Loss: 0.697, Test Accuracy = 88.330%\n",
            "Epoch: 7, Mini-Batches Completed: 400, Loss: 0.717, Test Accuracy = 87.860%\n",
            "Epoch: 7, Mini-Batches Completed: 500, Loss: 0.740, Test Accuracy = 88.000%\n",
            "Epoch: 7, Mini-Batches Completed: 600, Loss: 0.685, Test Accuracy = 87.330%\n",
            "Epoch: 7, Mini-Batches Completed: 700, Loss: 0.740, Test Accuracy = 87.500%\n",
            "Epoch: 7, Mini-Batches Completed: 800, Loss: 0.716, Test Accuracy = 87.980%\n",
            "Epoch: 7, Mini-Batches Completed: 900, Loss: 0.694, Test Accuracy = 88.060%\n",
            "Epoch: 7, Mini-Batches Completed: 1000, Loss: 0.714, Test Accuracy = 87.920%\n",
            "Epoch: 7, Mini-Batches Completed: 1100, Loss: 0.723, Test Accuracy = 88.070%\n",
            "Epoch: 7, Mini-Batches Completed: 1200, Loss: 0.741, Test Accuracy = 88.200%\n",
            "Epoch: 7, Mini-Batches Completed: 1300, Loss: 0.718, Test Accuracy = 87.830%\n",
            "Epoch: 7, Mini-Batches Completed: 1400, Loss: 0.717, Test Accuracy = 88.270%\n",
            "Epoch: 7, Mini-Batches Completed: 1500, Loss: 0.687, Test Accuracy = 88.550%\n",
            "Epoch: 7, Mini-Batches Completed: 1600, Loss: 0.744, Test Accuracy = 88.250%\n",
            "Epoch: 7, Mini-Batches Completed: 1700, Loss: 0.797, Test Accuracy = 88.250%\n",
            "Epoch: 7, Mini-Batches Completed: 1800, Loss: 0.730, Test Accuracy = 88.430%\n",
            "Starting Epoch: 8...\n",
            "Epoch: 8, Mini-Batches Completed: 100, Loss: 0.739, Test Accuracy = 87.940%\n",
            "Epoch: 8, Mini-Batches Completed: 200, Loss: 0.720, Test Accuracy = 88.360%\n",
            "Epoch: 8, Mini-Batches Completed: 300, Loss: 0.695, Test Accuracy = 88.330%\n",
            "Epoch: 8, Mini-Batches Completed: 400, Loss: 0.754, Test Accuracy = 88.230%\n",
            "Epoch: 8, Mini-Batches Completed: 500, Loss: 0.698, Test Accuracy = 88.620%\n",
            "Epoch: 8, Mini-Batches Completed: 600, Loss: 0.664, Test Accuracy = 88.240%\n",
            "Epoch: 8, Mini-Batches Completed: 700, Loss: 0.736, Test Accuracy = 87.550%\n",
            "Epoch: 8, Mini-Batches Completed: 800, Loss: 0.733, Test Accuracy = 88.520%\n",
            "Epoch: 8, Mini-Batches Completed: 900, Loss: 0.664, Test Accuracy = 88.400%\n",
            "Epoch: 8, Mini-Batches Completed: 1000, Loss: 0.689, Test Accuracy = 87.500%\n",
            "Epoch: 8, Mini-Batches Completed: 1100, Loss: 0.709, Test Accuracy = 88.520%\n",
            "Epoch: 8, Mini-Batches Completed: 1200, Loss: 0.714, Test Accuracy = 87.530%\n",
            "Epoch: 8, Mini-Batches Completed: 1300, Loss: 0.717, Test Accuracy = 87.890%\n",
            "Epoch: 8, Mini-Batches Completed: 1400, Loss: 0.653, Test Accuracy = 88.790%\n",
            "Epoch: 8, Mini-Batches Completed: 1500, Loss: 0.718, Test Accuracy = 88.850%\n",
            "Epoch: 8, Mini-Batches Completed: 1600, Loss: 0.700, Test Accuracy = 88.610%\n",
            "Epoch: 8, Mini-Batches Completed: 1700, Loss: 0.691, Test Accuracy = 88.040%\n",
            "Epoch: 8, Mini-Batches Completed: 1800, Loss: 0.662, Test Accuracy = 87.530%\n",
            "Starting Epoch: 9...\n",
            "Epoch: 9, Mini-Batches Completed: 100, Loss: 0.672, Test Accuracy = 88.510%\n",
            "Epoch: 9, Mini-Batches Completed: 200, Loss: 0.709, Test Accuracy = 89.070%\n",
            "Epoch: 9, Mini-Batches Completed: 300, Loss: 0.725, Test Accuracy = 88.750%\n",
            "Epoch: 9, Mini-Batches Completed: 400, Loss: 0.668, Test Accuracy = 88.810%\n",
            "Epoch: 9, Mini-Batches Completed: 500, Loss: 0.678, Test Accuracy = 88.470%\n",
            "Epoch: 9, Mini-Batches Completed: 600, Loss: 0.659, Test Accuracy = 88.200%\n",
            "Epoch: 9, Mini-Batches Completed: 700, Loss: 0.658, Test Accuracy = 88.820%\n",
            "Epoch: 9, Mini-Batches Completed: 800, Loss: 0.711, Test Accuracy = 87.960%\n",
            "Epoch: 9, Mini-Batches Completed: 900, Loss: 0.703, Test Accuracy = 88.860%\n",
            "Epoch: 9, Mini-Batches Completed: 1000, Loss: 0.680, Test Accuracy = 88.210%\n",
            "Epoch: 9, Mini-Batches Completed: 1100, Loss: 0.700, Test Accuracy = 88.220%\n",
            "Epoch: 9, Mini-Batches Completed: 1200, Loss: 0.677, Test Accuracy = 88.530%\n",
            "Epoch: 9, Mini-Batches Completed: 1300, Loss: 0.720, Test Accuracy = 88.510%\n",
            "Epoch: 9, Mini-Batches Completed: 1400, Loss: 0.669, Test Accuracy = 88.390%\n",
            "Epoch: 9, Mini-Batches Completed: 1500, Loss: 0.705, Test Accuracy = 88.920%\n",
            "Epoch: 9, Mini-Batches Completed: 1600, Loss: 0.731, Test Accuracy = 88.740%\n",
            "Epoch: 9, Mini-Batches Completed: 1700, Loss: 0.716, Test Accuracy = 87.770%\n",
            "Epoch: 9, Mini-Batches Completed: 1800, Loss: 0.681, Test Accuracy = 88.640%\n",
            "Starting Epoch: 10...\n",
            "Epoch: 10, Mini-Batches Completed: 100, Loss: 0.635, Test Accuracy = 89.050%\n",
            "Epoch: 10, Mini-Batches Completed: 200, Loss: 0.725, Test Accuracy = 87.630%\n",
            "Epoch: 10, Mini-Batches Completed: 300, Loss: 0.661, Test Accuracy = 88.810%\n",
            "Epoch: 10, Mini-Batches Completed: 400, Loss: 0.627, Test Accuracy = 88.420%\n",
            "Epoch: 10, Mini-Batches Completed: 500, Loss: 0.663, Test Accuracy = 88.550%\n",
            "Epoch: 10, Mini-Batches Completed: 600, Loss: 0.697, Test Accuracy = 88.750%\n",
            "Epoch: 10, Mini-Batches Completed: 700, Loss: 0.672, Test Accuracy = 88.870%\n",
            "Epoch: 10, Mini-Batches Completed: 800, Loss: 0.680, Test Accuracy = 88.930%\n",
            "Epoch: 10, Mini-Batches Completed: 900, Loss: 0.713, Test Accuracy = 88.550%\n",
            "Epoch: 10, Mini-Batches Completed: 1000, Loss: 0.645, Test Accuracy = 89.110%\n",
            "Epoch: 10, Mini-Batches Completed: 1100, Loss: 0.680, Test Accuracy = 88.050%\n",
            "Epoch: 10, Mini-Batches Completed: 1200, Loss: 0.684, Test Accuracy = 88.520%\n",
            "Epoch: 10, Mini-Batches Completed: 1300, Loss: 0.621, Test Accuracy = 88.800%\n",
            "Epoch: 10, Mini-Batches Completed: 1400, Loss: 0.692, Test Accuracy = 88.780%\n",
            "Epoch: 10, Mini-Batches Completed: 1500, Loss: 0.659, Test Accuracy = 89.330%\n",
            "Epoch: 10, Mini-Batches Completed: 1600, Loss: 0.694, Test Accuracy = 89.100%\n",
            "Epoch: 10, Mini-Batches Completed: 1700, Loss: 0.700, Test Accuracy = 88.460%\n",
            "Epoch: 10, Mini-Batches Completed: 1800, Loss: 0.720, Test Accuracy = 89.110%\n",
            "Finished Training\n"
          ]
        }
      ]
    },
    {
      "cell_type": "markdown",
      "metadata": {
        "id": "3IeeQTQgxKLd"
      },
      "source": [
        "### **Our Models Accuracy**"
      ]
    },
    {
      "cell_type": "code",
      "metadata": {
        "colab": {
          "base_uri": "https://localhost:8080/"
        },
        "id": "aIsXUooIxMBp",
        "outputId": "4b35d92b-d601-4eb0-bb81-521ee07075c9"
      },
      "source": [
        "correct = 0 \n",
        "total = 0\n",
        "\n",
        "with torch.no_grad():\n",
        "    for data in testloader:\n",
        "        images, labels = data\n",
        "        # Move our data to GPU\n",
        "        images = images.to(device)\n",
        "        labels = labels.to(device)\n",
        "        outputs = net(images)\n",
        "        _, predicted = torch.max(outputs.data, 1)\n",
        "        total += labels.size(0)\n",
        "        correct += (predicted == labels).sum().item()\n",
        "\n",
        "accuracy = 100 * correct / total\n",
        "print(f'Accuracy of the network on the 10000 test images: {accuracy:.4}%')"
      ],
      "execution_count": 10,
      "outputs": [
        {
          "output_type": "stream",
          "name": "stdout",
          "text": [
            "Accuracy of the network on the 10000 test images: 88.66%\n"
          ]
        }
      ]
    },
    {
      "cell_type": "markdown",
      "metadata": {
        "id": "Adyah373xOXQ"
      },
      "source": [
        "### **Training Plots**"
      ]
    },
    {
      "cell_type": "code",
      "metadata": {
        "colab": {
          "base_uri": "https://localhost:8080/",
          "height": 480
        },
        "id": "uQt-cDJMxMrF",
        "outputId": "a6c54b36-9413-4974-8d37-cb1f2bd86178"
      },
      "source": [
        "import matplotlib.pyplot as plt\n",
        "\n",
        "# To create a plot with secondary y-axis we need to create a subplot\n",
        "fig, ax1 = plt.subplots()\n",
        "\n",
        "# Set title and x-axis label rotation\n",
        "plt.title(\"Accuracy & Loss vs Epoch Mini-Batches\")\n",
        "plt.xticks(rotation=45)\n",
        "\n",
        "# We use twinx to create a plot a secondary y axis\n",
        "ax2 = ax1.twinx()\n",
        "\n",
        "# Create plot for loss_log and accuracy_log\n",
        "ax1.plot(epoch_log, loss_log, 'g-')\n",
        "ax2.plot(epoch_log, accuracy_log, 'b-')\n",
        "\n",
        "# Set labels\n",
        "ax1.set_xlabel('Epochs')\n",
        "ax1.set_ylabel('Loss', color='g')\n",
        "ax2.set_ylabel('Test Accuracy', color='b')\n",
        "\n",
        "plt.show()"
      ],
      "execution_count": 11,
      "outputs": [
        {
          "output_type": "display_data",
          "data": {
            "text/plain": [
              "<Figure size 640x480 with 2 Axes>"
            ],
            "image/png": "[encoded data removed]"
          },
          "metadata": {}
        }
      ]
    },
    {
      "cell_type": "markdown",
      "metadata": {
        "id": "PUEtO0oF56kv"
      },
      "source": [
        "#### **Early Stopping in PyTorch**\n",
        "\n",
        "https://github.com/Bjarten/early-stopping-pytorch"
      ]
    }
  ]
}