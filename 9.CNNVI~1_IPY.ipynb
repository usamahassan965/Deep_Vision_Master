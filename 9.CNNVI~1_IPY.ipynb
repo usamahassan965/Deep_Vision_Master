{
  "nbformat": 4,
  "nbformat_minor": 0,
  "metadata": {
    "colab": {
      "provenance": []
    },
    "kernelspec": {
      "name": "python3",
      "display_name": "Python 3"
    },
    "accelerator": "GPU"
  },
  "cells": [
    {
      "cell_type": "markdown",
      "metadata": {
        "id": "axAQYlu64jnC"
      },
      "source": [
        "\n",
        "\n",
        "# **Visualising What CNNs Learn**\n",
        "\n",
        "---\n",
        "\n",
        "\n",
        "In this lesson, we use **Keras with a TensorFlow 2.0** to visualise the following (see below). This helps you gain a better understanding of what's going on under the hood and de-mystifies some of the deep learning aspects.**\n",
        "1. Training a basic CNN on the MNIST Dataset\n",
        "2. Visualise its filters\n",
        "3. Visualise the filter activations as we propagate an input image"
      ]
    },
    {
      "cell_type": "markdown",
      "metadata": {
        "id": "1hxywOeDtYRH"
      },
      "source": [
        "# **Training a Basic CNN on the MNIST Dataset**"
      ]
    },
    {
      "cell_type": "code",
      "metadata": {
        "colab": {
          "base_uri": "https://localhost:8080/"
        },
        "id": "DNOkAVAx35eC",
        "outputId": "bde8dfa3-4d8e-4c15-9c35-f70e41b49576"
      },
      "source": [
        "# We can load the built in datasets from this function\n",
        "from tensorflow.keras.datasets import mnist\n",
        "\n",
        "# loads the MNIST training and test dataset \n",
        "(x_train, y_train), (x_test, y_test)  = mnist.load_data()\n",
        "\n",
        "# Check to see if we're using the GPU\n",
        "from tensorflow.python.client import device_lib\n",
        "\n",
        "print(device_lib.list_local_devices())\n",
        "\n",
        "# Display the number of samples in x_train, x_test, y_train, y_test\n",
        "print(\"Initial shape or dimensions of x_train\", str(x_train.shape))\n",
        "\n",
        "# Print the number of samples in our data\n",
        "print (\"Number of samples in our training data: \" + str(len(x_train)))\n",
        "print (\"Number of labels in our training data: \" + str(len(y_train)))\n",
        "print (\"Number of samples in our test data: \" + str(len(x_test)))\n",
        "print (\"Number of labels in our test data: \" + str(len(y_test)))\n",
        "\n",
        "# Print the image dimensions and no. of labels in our Training and Test Data\n",
        "print(\"\\n\")\n",
        "print (\"Dimensions of x_train:\" + str(x_train[0].shape))\n",
        "print (\"Labels in x_train:\" + str(y_train.shape))\n",
        "print(\"\\n\")\n",
        "print (\"Dimensions of x_test:\" + str(x_test[0].shape))\n",
        "print (\"Labels in y_test:\" + str(y_test.shape))"
      ],
      "execution_count": 1,
      "outputs": [
        {
          "output_type": "stream",
          "name": "stdout",
          "text": [
            "Downloading data from https://storage.googleapis.com/tensorflow/tf-keras-datasets/mnist.npz\n",
            "11490434/11490434 [==============================] - 0s 0us/step\n",
            "[name: \"/device:CPU:0\"\n",
            "device_type: \"CPU\"\n",
            "memory_limit: 268435456\n",
            "locality {\n",
            "}\n",
            "incarnation: 5223909924753565412\n",
            "xla_global_id: -1\n",
            ", name: \"/device:GPU:0\"\n",
            "device_type: \"GPU\"\n",
            "memory_limit: 14328594432\n",
            "locality {\n",
            "  bus_id: 1\n",
            "  links {\n",
            "  }\n",
            "}\n",
            "incarnation: 9834202798002197594\n",
            "physical_device_desc: \"device: 0, name: Tesla T4, pci bus id: 0000:00:04.0, compute capability: 7.5\"\n",
            "xla_global_id: 416903419\n",
            "]\n",
            "Initial shape or dimensions of x_train (60000, 28, 28)\n",
            "Number of samples in our training data: 60000\n",
            "Number of labels in our training data: 60000\n",
            "Number of samples in our test data: 10000\n",
            "Number of labels in our test data: 10000\n",
            "\n",
            "\n",
            "Dimensions of x_train:(28, 28)\n",
            "Labels in x_train:(60000,)\n",
            "\n",
            "\n",
            "Dimensions of x_test:(28, 28)\n",
            "Labels in y_test:(10000,)\n"
          ]
        }
      ]
    },
    {
      "cell_type": "code",
      "metadata": {
        "colab": {
          "base_uri": "https://localhost:8080/"
        },
        "id": "qBfOrcFE4s1z",
        "outputId": "2774926e-da97-46cc-971f-f0826311a5eb"
      },
      "source": [
        "# Lets store the number of rows and columns\n",
        "img_rows = x_train[0].shape[0]\n",
        "img_cols = x_train[0].shape[1]\n",
        "\n",
        "# Getting our data in the right 'shape' needed for Keras\n",
        "# We need to add a 4th dimenion to our data thereby changing our\n",
        "# Our original image shape of (60000,28,28) to (60000,28,28,1)\n",
        "x_train = x_train.reshape(x_train.shape[0], img_rows, img_cols, 1)\n",
        "x_test = x_test.reshape(x_test.shape[0], img_rows, img_cols, 1)\n",
        "\n",
        "# store the shape of a single image \n",
        "input_shape = (img_rows, img_cols, 1)\n",
        "\n",
        "# change our image type to float32 data type\n",
        "x_train = x_train.astype('float32') #uint8 originally\n",
        "x_test = x_test.astype('float32')\n",
        "\n",
        "# Normalize our data by changing the range from (0 to 255) to (0 to 1)\n",
        "x_train /= 255.0\n",
        "x_test /= 255.0\n",
        "\n",
        "print('x_train shape:', x_train.shape)\n",
        "print(x_train.shape[0], 'train samples')\n",
        "print(x_test.shape[0], 'test samples')\n",
        "\n",
        "from tensorflow.keras.utils import to_categorical\n",
        "\n",
        "# Now we one hot encode outputs\n",
        "y_train = to_categorical(y_train)\n",
        "y_test = to_categorical(y_test)\n",
        "\n",
        "# Let's count the number columns in our hot encoded matrix \n",
        "print (\"Number of Classes: \" + str(y_test.shape[1]))\n",
        "\n",
        "num_classes = y_test.shape[1]\n",
        "num_pixels = x_train.shape[1] * x_train.shape[2]"
      ],
      "execution_count": 2,
      "outputs": [
        {
          "output_type": "stream",
          "name": "stdout",
          "text": [
            "x_train shape: (60000, 28, 28, 1)\n",
            "60000 train samples\n",
            "10000 test samples\n",
            "Number of Classes: 10\n"
          ]
        }
      ]
    },
    {
      "cell_type": "code",
      "metadata": {
        "colab": {
          "base_uri": "https://localhost:8080/"
        },
        "id": "TZQvPjXA4wpc",
        "outputId": "25bc78eb-deb4-4727-b539-49558d752ca6"
      },
      "source": [
        "from tensorflow.keras.models import Sequential\n",
        "from tensorflow.keras.layers import Dense, Dropout, Flatten\n",
        "from tensorflow.keras.layers import Conv2D, MaxPooling2D\n",
        "from tensorflow.keras import backend as K\n",
        "from tensorflow.keras.optimizers import SGD \n",
        "\n",
        "model = Sequential()\n",
        "model.add(Conv2D(32, kernel_size=(3, 3), activation='relu', input_shape=input_shape))\n",
        "model.add(Conv2D(64, (3, 3), activation='relu'))\n",
        "model.add(MaxPooling2D(pool_size=(2, 2)))\n",
        "model.add(Flatten())\n",
        "model.add(Dense(128, activation='relu'))\n",
        "model.add(Dense(num_classes, activation='softmax'))\n",
        "\n",
        "model.compile(loss = 'categorical_crossentropy',\n",
        "              optimizer = SGD(0.001),\n",
        "              metrics = ['accuracy'])\n",
        "\n",
        "print(model.summary())"
      ],
      "execution_count": 3,
      "outputs": [
        {
          "output_type": "stream",
          "name": "stdout",
          "text": [
            "Model: \"sequential\"\n",
            "_________________________________________________________________\n",
            " Layer (type)                Output Shape              Param #   \n",
            "=================================================================\n",
            " conv2d (Conv2D)             (None, 26, 26, 32)        320       \n",
            "                                                                 \n",
            " conv2d_1 (Conv2D)           (None, 24, 24, 64)        18496     \n",
            "                                                                 \n",
            " max_pooling2d (MaxPooling2D  (None, 12, 12, 64)       0         \n",
            " )                                                               \n",
            "                                                                 \n",
            " flatten (Flatten)           (None, 9216)              0         \n",
            "                                                                 \n",
            " dense (Dense)               (None, 128)               1179776   \n",
            "                                                                 \n",
            " dense_1 (Dense)             (None, 10)                1290      \n",
            "                                                                 \n",
            "=================================================================\n",
            "Total params: 1,199,882\n",
            "Trainable params: 1,199,882\n",
            "Non-trainable params: 0\n",
            "_________________________________________________________________\n",
            "None\n"
          ]
        }
      ]
    },
    {
      "cell_type": "code",
      "metadata": {
        "colab": {
          "base_uri": "https://localhost:8080/"
        },
        "id": "2YPtyMSM4yj9",
        "outputId": "1476a1d7-1868-451e-bd9e-f06b4c51f75b"
      },
      "source": [
        "batch_size = 128\n",
        "epochs = 10\n",
        "\n",
        "# Store our results here so we can plot later\n",
        "# In our fit function we specify our datsets (x_train & y_train), \n",
        "# the batch size (typically 16 to 128 depending on your RAM), the number of \n",
        "# epochs (usually 10 to 100) and our validation datasets (x_test & y_test)\n",
        "# verbose = 1, sets our training to output performance metrics every epoch\n",
        "history = model.fit(x_train,\n",
        "                    y_train,\n",
        "                    batch_size = batch_size,\n",
        "                    epochs = epochs,\n",
        "                    verbose = 1,\n",
        "                    validation_data = (x_test, y_test))\n",
        "\n",
        "# We obtain our accuracy score using the evalute function\n",
        "# Score holds two values, our Test loss and Accuracy\n",
        "score = model.evaluate(x_test, y_test, verbose=0)\n",
        "print('Test loss:', score[0])\n",
        "print('Test accuracy:', score[1])"
      ],
      "execution_count": 4,
      "outputs": [
        {
          "output_type": "stream",
          "name": "stdout",
          "text": [
            "Epoch 1/10\n",
            "469/469 [==============================] - 14s 8ms/step - loss: 2.2178 - accuracy: 0.4121 - val_loss: 2.0934 - val_accuracy: 0.6010\n",
            "Epoch 2/10\n",
            "469/469 [==============================] - 3s 7ms/step - loss: 1.7288 - accuracy: 0.6830 - val_loss: 1.1484 - val_accuracy: 0.7853\n",
            "Epoch 3/10\n",
            "469/469 [==============================] - 4s 8ms/step - loss: 0.7820 - accuracy: 0.8209 - val_loss: 0.5288 - val_accuracy: 0.8674\n",
            "Epoch 4/10\n",
            "469/469 [==============================] - 3s 7ms/step - loss: 0.4774 - accuracy: 0.8695 - val_loss: 0.4013 - val_accuracy: 0.8901\n",
            "Epoch 5/10\n",
            "469/469 [==============================] - 3s 7ms/step - loss: 0.3951 - accuracy: 0.8875 - val_loss: 0.3506 - val_accuracy: 0.9015\n",
            "Epoch 6/10\n",
            "469/469 [==============================] - 3s 7ms/step - loss: 0.3566 - accuracy: 0.8963 - val_loss: 0.3229 - val_accuracy: 0.9078\n",
            "Epoch 7/10\n",
            "469/469 [==============================] - 4s 8ms/step - loss: 0.3319 - accuracy: 0.9026 - val_loss: 0.3040 - val_accuracy: 0.9140\n",
            "Epoch 8/10\n",
            "469/469 [==============================] - 3s 7ms/step - loss: 0.3136 - accuracy: 0.9082 - val_loss: 0.2876 - val_accuracy: 0.9187\n",
            "Epoch 9/10\n",
            "469/469 [==============================] - 3s 7ms/step - loss: 0.2992 - accuracy: 0.9123 - val_loss: 0.2773 - val_accuracy: 0.9215\n",
            "Epoch 10/10\n",
            "469/469 [==============================] - 4s 8ms/step - loss: 0.2864 - accuracy: 0.9160 - val_loss: 0.2638 - val_accuracy: 0.9239\n",
            "Test loss: 0.2638302743434906\n",
            "Test accuracy: 0.9239000082015991\n"
          ]
        }
      ]
    },
    {
      "cell_type": "markdown",
      "metadata": {
        "id": "UMGIeZ5w5fLO"
      },
      "source": [
        "## **Get the symbolic outputs of each \"key\" layer (we gave them unique names).**"
      ]
    },
    {
      "cell_type": "code",
      "metadata": {
        "colab": {
          "base_uri": "https://localhost:8080/"
        },
        "id": "mRo4_Rm942F2",
        "outputId": "36087e19-d864-4dce-a4db-b543afa9bb74"
      },
      "source": [
        "layer_dict = dict([(layer.name, layer) for layer in model.layers])\n",
        "layer_dict"
      ],
      "execution_count": 5,
      "outputs": [
        {
          "output_type": "execute_result",
          "data": {
            "text/plain": [
              "{'conv2d': <keras.layers.convolutional.conv2d.Conv2D at 0x7f6b2c5adbd0>,\n",
              " 'conv2d_1': <keras.layers.convolutional.conv2d.Conv2D at 0x7f6b2c572c50>,\n",
              " 'max_pooling2d': <keras.layers.pooling.max_pooling2d.MaxPooling2D at 0x7f6a9a646020>,\n",
              " 'flatten': <keras.layers.reshaping.flatten.Flatten at 0x7f6b2c573bb0>,\n",
              " 'dense': <keras.layers.core.dense.Dense at 0x7f6a9a6476a0>,\n",
              " 'dense_1': <keras.layers.core.dense.Dense at 0x7f6a98538340>}"
            ]
          },
          "metadata": {},
          "execution_count": 5
        }
      ]
    },
    {
      "cell_type": "markdown",
      "metadata": {
        "id": "sxlGPm3w5lte"
      },
      "source": [
        "## **Get the shapes of only our Conv Filters**"
      ]
    },
    {
      "cell_type": "code",
      "metadata": {
        "colab": {
          "base_uri": "https://localhost:8080/"
        },
        "id": "_BZLR8CM5Ywy",
        "outputId": "147c7042-559f-4454-bd37-943f0c3893e4"
      },
      "source": [
        "# summarize filter shapes\n",
        "for layer in model.layers:\n",
        "  # check for convolutional layer\n",
        "  \n",
        "  if 'conv' not in layer.name:\n",
        "    continue\n",
        "\n",
        "  # get filter weights\n",
        "  filters, biases = layer.get_weights()\n",
        "  print(layer.name, filters.shape)"
      ],
      "execution_count": 6,
      "outputs": [
        {
          "output_type": "stream",
          "name": "stdout",
          "text": [
            "conv2d (3, 3, 1, 32)\n",
            "conv2d_1 (3, 3, 32, 64)\n"
          ]
        }
      ]
    },
    {
      "cell_type": "markdown",
      "metadata": {
        "id": "WjrYEOcL6Otk"
      },
      "source": [
        "## **Let's take a look at the weights of our first Conv Layer**"
      ]
    },
    {
      "cell_type": "code",
      "metadata": {
        "id": "KOLLuxGw5bzU"
      },
      "source": [
        "# retrieve weights from the first Conv (hidden) layer\n",
        "filters, biases = model.layers[0].get_weights()"
      ],
      "execution_count": 7,
      "outputs": []
    },
    {
      "cell_type": "code",
      "metadata": {
        "colab": {
          "base_uri": "https://localhost:8080/"
        },
        "id": "qkeoGiIj5qj-",
        "outputId": "a3993fd0-cb3a-4633-edef-9482c10988dd"
      },
      "source": [
        "# Let's take a look at our filters\n",
        "print(filters.shape)\n",
        "filters"
      ],
      "execution_count": 8,
      "outputs": [
        {
          "output_type": "stream",
          "name": "stdout",
          "text": [
            "(3, 3, 1, 32)\n"
          ]
        },
        {
          "output_type": "execute_result",
          "data": {
            "text/plain": [
              "array([[[[ 1.18169986e-01, -6.69470057e-03, -1.26544014e-01,\n",
              "           1.60164207e-01,  2.07047999e-01, -1.20750882e-01,\n",
              "          -9.37874541e-02, -7.13871494e-02,  2.55543351e-01,\n",
              "           7.41862059e-02, -8.75559971e-02, -1.86021850e-02,\n",
              "           1.19370274e-01,  1.01099573e-02, -6.01278897e-03,\n",
              "           6.76381961e-02, -6.78451452e-03, -9.24119130e-02,\n",
              "           1.16956264e-01,  1.14497252e-01,  7.09060356e-02,\n",
              "          -6.95332438e-02, -7.74658844e-02,  1.52077377e-01,\n",
              "          -2.97240410e-02,  3.80856767e-02,  1.35887405e-02,\n",
              "           9.22722071e-02,  2.07329720e-01,  1.34983864e-02,\n",
              "          -6.07683212e-02,  2.21066233e-02]],\n",
              "\n",
              "        [[ 1.03835918e-01,  1.42431706e-01, -1.86278149e-02,\n",
              "           2.51279384e-01,  2.38455325e-01,  7.10914806e-02,\n",
              "          -1.39546111e-01, -3.21884900e-02,  8.22425187e-02,\n",
              "           1.19871125e-02,  1.13839298e-01,  1.87662184e-01,\n",
              "          -6.97416738e-02,  1.83506280e-01,  6.38572797e-02,\n",
              "           3.42165269e-02, -6.04091622e-02,  2.63003446e-02,\n",
              "           1.82229504e-01, -5.03931567e-02, -4.50247601e-02,\n",
              "          -3.66315022e-02,  7.92610869e-02, -1.24453761e-01,\n",
              "          -1.00178398e-01, -7.26573460e-04, -1.28634557e-01,\n",
              "           9.66971144e-02,  1.38939708e-01,  1.32986799e-01,\n",
              "          -6.86761141e-02, -7.91074485e-02]],\n",
              "\n",
              "        [[-1.73878986e-02,  4.31252569e-02, -1.05391271e-01,\n",
              "           1.33678272e-01,  1.44468069e-01,  9.15323421e-02,\n",
              "           1.42236620e-01, -5.53894714e-02,  2.61768848e-01,\n",
              "          -1.30869672e-01,  7.79168829e-02,  1.68119624e-01,\n",
              "           5.06961159e-02,  1.45014420e-01, -5.75913861e-03,\n",
              "           1.45482123e-01,  7.28809014e-02,  5.52454889e-02,\n",
              "           8.61602202e-02,  1.61569659e-02,  1.62370071e-01,\n",
              "          -3.32029611e-02,  3.36891040e-02, -1.29703909e-01,\n",
              "          -6.08838759e-02, -1.11039713e-01,  4.58149426e-02,\n",
              "           1.32175401e-01,  8.27258304e-02, -6.50943518e-02,\n",
              "          -6.73245415e-02, -1.73962078e-04]]],\n",
              "\n",
              "\n",
              "       [[[ 1.53398007e-01, -5.68135874e-03,  5.51740825e-02,\n",
              "           9.54916254e-02,  7.66868964e-02, -7.20027164e-02,\n",
              "           1.37588056e-03, -5.73931001e-02,  2.43226215e-01,\n",
              "           5.74102588e-02,  3.11628152e-02,  8.08081124e-03,\n",
              "           1.08740121e-01,  2.22561777e-01,  3.16074514e-03,\n",
              "           1.11466885e-01,  1.46679491e-01,  1.35694101e-01,\n",
              "           1.65163167e-02, -4.90245484e-02, -6.46625459e-02,\n",
              "           1.54174462e-01,  2.82043908e-02,  2.36698948e-02,\n",
              "          -1.05211839e-01, -1.83754154e-02,  5.47090732e-02,\n",
              "           3.62667590e-02,  1.22909799e-01,  6.96664080e-02,\n",
              "          -1.00597091e-01,  7.16460496e-02]],\n",
              "\n",
              "        [[ 2.11843222e-01, -9.76808965e-02,  7.12699741e-02,\n",
              "           2.07430974e-01,  1.63028255e-01,  1.22604370e-01,\n",
              "          -1.30361512e-01, -2.78203599e-02,  1.54082477e-01,\n",
              "           2.40015630e-02, -3.30902375e-02,  1.20337710e-01,\n",
              "          -2.74295509e-02,  1.97241068e-01, -7.94068351e-02,\n",
              "           4.21464965e-02, -5.53117841e-02,  3.86074819e-02,\n",
              "           2.70131320e-01, -8.17313194e-02,  1.39361963e-01,\n",
              "           8.14384073e-02,  3.54823284e-02, -1.22350872e-01,\n",
              "          -1.03635537e-02, -7.13722967e-03, -1.12684861e-01,\n",
              "          -9.87798721e-02,  1.88909531e-01,  7.89747983e-02,\n",
              "           1.58385083e-01, -9.81099904e-02]],\n",
              "\n",
              "        [[ 2.23623604e-01, -6.56300634e-02, -7.04523474e-02,\n",
              "           2.08875854e-02,  1.26629993e-01, -6.97035491e-02,\n",
              "           5.63622452e-02,  9.57157016e-02,  2.54561156e-01,\n",
              "           5.61726242e-02, -1.62815638e-02,  2.32408404e-01,\n",
              "           6.25836179e-02,  2.07352981e-01, -1.11951351e-01,\n",
              "           1.80522680e-01,  3.30176540e-02,  3.71285751e-02,\n",
              "           1.44102737e-01,  4.64798696e-02, -1.06583595e-01,\n",
              "          -5.55472076e-02, -1.18482471e-01,  1.40175164e-01,\n",
              "          -1.16829023e-01, -1.12437554e-01,  4.26847823e-02,\n",
              "          -1.24336826e-02,  1.55201361e-01,  1.63243234e-01,\n",
              "           1.71394289e-01,  5.82606569e-02]]],\n",
              "\n",
              "\n",
              "       [[[ 2.83356309e-01, -7.14182993e-03,  9.95310172e-02,\n",
              "           1.53622940e-01,  1.38076011e-03, -1.08405009e-01,\n",
              "          -7.60061517e-02, -6.03083596e-02,  2.27483690e-01,\n",
              "           1.48564149e-02,  1.62726194e-02,  3.94377150e-02,\n",
              "          -1.18455067e-01,  6.52069598e-02,  1.88797399e-01,\n",
              "          -4.99738716e-02,  1.41939059e-01,  3.42267975e-02,\n",
              "           8.40119496e-02,  6.43304363e-02,  8.97264481e-02,\n",
              "           1.35613739e-01, -6.54388443e-02,  5.23837358e-02,\n",
              "          -1.24004751e-01,  1.49296105e-01,  3.69930007e-02,\n",
              "          -1.35694027e-01,  2.44129971e-01, -1.01923257e-01,\n",
              "           2.58865412e-02, -1.03052497e-01]],\n",
              "\n",
              "        [[ 2.84418195e-01, -6.86662048e-02,  7.39472359e-03,\n",
              "           1.61835462e-01,  1.26514226e-01, -1.01527870e-01,\n",
              "           1.28906637e-01, -1.40145496e-01,  2.82072783e-01,\n",
              "          -1.03501350e-01,  3.16268913e-02,  5.66382930e-02,\n",
              "          -1.34173617e-01,  1.10929564e-01,  1.07363358e-01,\n",
              "           1.28561571e-01,  6.62880018e-02, -5.12107797e-02,\n",
              "           2.25746825e-01, -1.33515894e-01, -2.93271802e-02,\n",
              "           2.23742742e-02, -1.00043751e-01, -8.38523954e-02,\n",
              "          -4.06662896e-02,  4.99458313e-02, -1.31842390e-01,\n",
              "           7.75088146e-02,  4.57605068e-03,  7.86061883e-02,\n",
              "          -9.83683858e-03,  1.17341965e-01]],\n",
              "\n",
              "        [[ 2.11799249e-01, -3.74474898e-02,  1.40661582e-01,\n",
              "           1.96233705e-01,  6.70180693e-02, -1.38937995e-01,\n",
              "           8.71647745e-02, -1.41400680e-01,  5.75328507e-02,\n",
              "           1.10147811e-01, -8.32427889e-02,  1.75679162e-01,\n",
              "           1.15649320e-01, -2.79452540e-02,  1.35402009e-01,\n",
              "           7.61854276e-02, -1.19686440e-01,  7.92380348e-02,\n",
              "           8.91679600e-02,  8.14961363e-03,  1.28076032e-01,\n",
              "           5.89863770e-03,  2.35842243e-02, -2.53045727e-02,\n",
              "           3.97918969e-02,  5.29085435e-02, -9.64316949e-02,\n",
              "          -1.43948942e-01,  1.34892374e-01,  1.26905993e-01,\n",
              "           8.58193487e-02, -1.34011611e-01]]]], dtype=float32)"
            ]
          },
          "metadata": {},
          "execution_count": 8
        }
      ]
    },
    {
      "cell_type": "code",
      "metadata": {
        "colab": {
          "base_uri": "https://localhost:8080/"
        },
        "id": "G-7XKa5_5xXD",
        "outputId": "84cb78ab-6ab9-45a1-e845-fef935f9726e"
      },
      "source": [
        "# And now let's look at our biases\n",
        "print(biases.shape)\n",
        "biases"
      ],
      "execution_count": 9,
      "outputs": [
        {
          "output_type": "stream",
          "name": "stdout",
          "text": [
            "(32,)\n"
          ]
        },
        {
          "output_type": "execute_result",
          "data": {
            "text/plain": [
              "array([ 2.95365844e-02,  3.20832655e-02,  3.20035469e-04,  1.57612544e-02,\n",
              "        1.11737093e-02,  3.31203832e-04,  2.98107490e-02,  1.19518489e-02,\n",
              "        1.36362119e-02, -1.82360206e-02,  1.95746701e-02,  2.22630352e-02,\n",
              "        3.50160408e-03,  1.71633624e-03, -2.03862510e-06,  8.91007856e-03,\n",
              "        4.09075199e-03,  8.10432248e-03, -3.12955672e-06, -1.06234886e-02,\n",
              "        8.70674197e-03,  1.12611735e-02,  5.09706251e-02, -7.68682730e-06,\n",
              "        3.07563245e-02,  8.03192146e-03, -7.55342655e-04,  1.58260688e-02,\n",
              "        1.80302598e-02,  1.10903382e-03,  2.35177530e-03, -2.71133149e-06],\n",
              "      dtype=float32)"
            ]
          },
          "metadata": {},
          "execution_count": 9
        }
      ]
    },
    {
      "cell_type": "markdown",
      "metadata": {
        "id": "h-dw6yeD6WLW"
      },
      "source": [
        "## **Let's normalize filter values to 0-1 so we can visualize them**\n",
        "\n",
        "Our Filter weights range"
      ]
    },
    {
      "cell_type": "code",
      "metadata": {
        "colab": {
          "base_uri": "https://localhost:8080/"
        },
        "id": "aXYZwkoL6JWk",
        "outputId": "268ad980-0666-4cc3-a710-a410272daabb"
      },
      "source": [
        "# normalize filter values to 0-1 so we can visualize them\n",
        "f_min, f_max = filters.min(), filters.max()\n",
        "print(f'Before Normalisation, Min = {f_min} and Max =  {f_max}')\n",
        "filters = (filters - f_min) / (f_max - f_min)\n",
        "print(f'After Normalisation, Min = {filters.min()} and Max =  {filters.max()}')"
      ],
      "execution_count": 10,
      "outputs": [
        {
          "output_type": "stream",
          "name": "stdout",
          "text": [
            "Before Normalisation, Min = -0.14394894242286682 and Max =  0.2844181954860687\n",
            "After Normalisation, Min = 0.0 and Max =  1.0\n"
          ]
        }
      ]
    },
    {
      "cell_type": "markdown",
      "metadata": {
        "id": "LYwDbpX7pUqv"
      },
      "source": [
        "## **Visualize our Trained Fillters**"
      ]
    },
    {
      "cell_type": "code",
      "metadata": {
        "colab": {
          "base_uri": "https://localhost:8080/",
          "height": 415
        },
        "id": "V1jEeSdU7KRf",
        "outputId": "ba7f6e5c-9c36-48c6-ac09-b7c0e1c29792"
      },
      "source": [
        "import matplotlib.pyplot as plt\n",
        "import numpy as np\n",
        "\n",
        "# plot first few filters and set plot size\n",
        "n_filters, ix = 32, 1\n",
        "plt.figure(figsize=(12,20))\n",
        "\n",
        "for i in range(n_filters):\n",
        "    # get the filter\n",
        "    f = filters[:, :, :, i]\n",
        "    #print(f.shape)\n",
        "\n",
        "    # Arrange in subplot of 4 x 8\n",
        "    ax = plt.subplot(n_filters, 4, ix)\n",
        "    ax.set_xticks([])\n",
        "    ax.set_yticks([])\n",
        "\n",
        "    # plot filter channel in grayscale\n",
        "    plt.imshow(np.squeeze(f, axis=2), cmap='gray')\n",
        "    ix += 1\n",
        "    \n",
        "# show the figure\n",
        "plt.show()"
      ],
      "execution_count": 13,
      "outputs": [
        {
          "output_type": "display_data",
          "data": {
            "text/plain": [
              "<Figure size 1200x2000 with 32 Axes>"
            ],
            "image/png": "[encoded data removed]"
          },
          "metadata": {}
        }
      ]
    },
    {
      "cell_type": "markdown",
      "metadata": {
        "id": "6yIiZTG7sZAl"
      },
      "source": [
        "# **Filter Activations**"
      ]
    },
    {
      "cell_type": "code",
      "metadata": {
        "id": "9Pt_DEyJpdUX"
      },
      "source": [
        "from tensorflow.keras.models import Model\n",
        "\n",
        "# Extracts the outputs of the top 2 layers\n",
        "layer_outputs = [layer.output for layer in model.layers[:2]]\n",
        "\n",
        "# Creates a model that will return these outputs, given the model input\n",
        "activation_model = Model(inputs=model.input, outputs=layer_outputs)"
      ],
      "execution_count": 14,
      "outputs": []
    },
    {
      "cell_type": "code",
      "metadata": {
        "colab": {
          "base_uri": "https://localhost:8080/"
        },
        "id": "Jqo19XEPpurn",
        "outputId": "3ac95a7c-c0ba-4dc5-ce2c-adc07226fa94"
      },
      "source": [
        "layer_outputs"
      ],
      "execution_count": 15,
      "outputs": [
        {
          "output_type": "execute_result",
          "data": {
            "text/plain": [
              "[<KerasTensor: shape=(None, 26, 26, 32) dtype=float32 (created by layer 'conv2d')>,\n",
              " <KerasTensor: shape=(None, 24, 24, 64) dtype=float32 (created by layer 'conv2d_1')>]"
            ]
          },
          "metadata": {},
          "execution_count": 15
        }
      ]
    },
    {
      "cell_type": "code",
      "metadata": {
        "colab": {
          "base_uri": "https://localhost:8080/",
          "height": 439
        },
        "id": "WZGKmrFlpv8V",
        "outputId": "94a35c9e-c56e-4b5c-f6d3-dbeab9f52efe"
      },
      "source": [
        "import matplotlib.pyplot as plt\n",
        "\n",
        "img_tensor = x_test[22].reshape(1,28,28,1)\n",
        "fig = plt.figure(figsize=(5,5))\n",
        "plt.imshow(img_tensor[0,:,:,0],cmap=\"gray\")\n",
        "plt.axis('off')"
      ],
      "execution_count": 16,
      "outputs": [
        {
          "output_type": "execute_result",
          "data": {
            "text/plain": [
              "(-0.5, 27.5, 27.5, -0.5)"
            ]
          },
          "metadata": {},
          "execution_count": 16
        },
        {
          "output_type": "display_data",
          "data": {
            "text/plain": [
              "<Figure size 500x500 with 1 Axes>"
            ],
            "image/png": "[encoded data removed]"
          },
          "metadata": {}
        }
      ]
    },
    {
      "cell_type": "markdown",
      "metadata": {
        "id": "_ZtukGuqqc6v"
      },
      "source": [
        "## **Get the output after the 2nd Conv Filter (after ReLU)**"
      ]
    },
    {
      "cell_type": "code",
      "metadata": {
        "colab": {
          "base_uri": "https://localhost:8080/"
        },
        "id": "Pf44WDszqR7R",
        "outputId": "e7a4cad8-f15a-489e-c882-1955495cf9bb"
      },
      "source": [
        "# Returns a list of two Numpy arrays: one array per layer activation\n",
        "activations = activation_model.predict(img_tensor)\n",
        "\n",
        "print(\"Number of layer activations: \" + str(len(activations)))"
      ],
      "execution_count": 17,
      "outputs": [
        {
          "output_type": "stream",
          "name": "stdout",
          "text": [
            "1/1 [==============================] - 0s 131ms/step\n",
            "Number of layer activations: 2\n"
          ]
        }
      ]
    },
    {
      "cell_type": "markdown",
      "metadata": {
        "id": "WZSTCQhbqlCK"
      },
      "source": [
        "#### **The activation of the first convolution layer for the image input**"
      ]
    },
    {
      "cell_type": "code",
      "metadata": {
        "colab": {
          "base_uri": "https://localhost:8080/"
        },
        "id": "QJksyIunqZI6",
        "outputId": "b940f33a-7f36-4176-8aed-0eedf8d24b73"
      },
      "source": [
        "first_layer_activation = activations[0]\n",
        "print(first_layer_activation.shape)"
      ],
      "execution_count": 18,
      "outputs": [
        {
          "output_type": "stream",
          "name": "stdout",
          "text": [
            "(1, 26, 26, 32)\n"
          ]
        }
      ]
    },
    {
      "cell_type": "code",
      "metadata": {
        "colab": {
          "base_uri": "https://localhost:8080/"
        },
        "id": "dwSgihzWqm7q",
        "outputId": "b6c890bd-f7d7-4e9a-a364-212094e63c2f"
      },
      "source": [
        "second_layer_activation = activations[1]\n",
        "print(second_layer_activation.shape)"
      ],
      "execution_count": 19,
      "outputs": [
        {
          "output_type": "stream",
          "name": "stdout",
          "text": [
            "(1, 24, 24, 64)\n"
          ]
        }
      ]
    },
    {
      "cell_type": "code",
      "metadata": {
        "colab": {
          "base_uri": "https://localhost:8080/"
        },
        "id": "XV5dwY27qqRC",
        "outputId": "40f80a10-1eb5-425d-c828-84f9fd702935"
      },
      "source": [
        "print(model.summary())"
      ],
      "execution_count": 20,
      "outputs": [
        {
          "output_type": "stream",
          "name": "stdout",
          "text": [
            "Model: \"sequential\"\n",
            "_________________________________________________________________\n",
            " Layer (type)                Output Shape              Param #   \n",
            "=================================================================\n",
            " conv2d (Conv2D)             (None, 26, 26, 32)        320       \n",
            "                                                                 \n",
            " conv2d_1 (Conv2D)           (None, 24, 24, 64)        18496     \n",
            "                                                                 \n",
            " max_pooling2d (MaxPooling2D  (None, 12, 12, 64)       0         \n",
            " )                                                               \n",
            "                                                                 \n",
            " flatten (Flatten)           (None, 9216)              0         \n",
            "                                                                 \n",
            " dense (Dense)               (None, 128)               1179776   \n",
            "                                                                 \n",
            " dense_1 (Dense)             (None, 10)                1290      \n",
            "                                                                 \n",
            "=================================================================\n",
            "Total params: 1,199,882\n",
            "Trainable params: 1,199,882\n",
            "Non-trainable params: 0\n",
            "_________________________________________________________________\n",
            "None\n"
          ]
        }
      ]
    },
    {
      "cell_type": "markdown",
      "metadata": {
        "id": "K9RcKeD2q0NC"
      },
      "source": [
        "## **The output of the 4th Conv filter Feature Map in the first Conv layer**"
      ]
    },
    {
      "cell_type": "code",
      "metadata": {
        "colab": {
          "base_uri": "https://localhost:8080/",
          "height": 454
        },
        "id": "eMp2hI1AqtaO",
        "outputId": "c6479790-bb6d-4bfe-c971-f3aa70680cfb"
      },
      "source": [
        "plt.matshow(first_layer_activation[0, :, :, 3], cmap='viridis')\n",
        "#plt.legend()"
      ],
      "execution_count": 22,
      "outputs": [
        {
          "output_type": "execute_result",
          "data": {
            "text/plain": [
              "<matplotlib.image.AxesImage at 0x7f69f6ed7790>"
            ]
          },
          "metadata": {},
          "execution_count": 22
        },
        {
          "output_type": "display_data",
          "data": {
            "text/plain": [
              "<Figure size 480x480 with 1 Axes>"
            ],
            "image/png": "[encoded data removed]"
          },
          "metadata": {}
        }
      ]
    },
    {
      "cell_type": "markdown",
      "metadata": {
        "id": "Kc2s2RJHq8dU"
      },
      "source": [
        "## **Create a function that displys the activations of specific layers**"
      ]
    },
    {
      "cell_type": "code",
      "metadata": {
        "id": "WAFO2rkLqwx7"
      },
      "source": [
        "def display_activation(activations, col_size, row_size, act_index): \n",
        "    activation = activations[act_index]\n",
        "    activation_index=0\n",
        "    fig, ax = plt.subplots(row_size, col_size, figsize=(row_size*2.5,col_size*1.5))\n",
        "    for row in range(0,row_size):\n",
        "        for col in range(0,col_size):\n",
        "            ax[row][col].imshow(activation[0, :, :, activation_index], cmap='viridis')\n",
        "            activation_index += 1"
      ],
      "execution_count": null,
      "outputs": []
    },
    {
      "cell_type": "code",
      "metadata": {
        "colab": {
          "base_uri": "https://localhost:8080/",
          "height": 397
        },
        "id": "yABXf368q9g0",
        "outputId": "be8d7552-5e59-4096-cfb6-c775867fe809"
      },
      "source": [
        "display_activation(activations, 4, 8, 0)"
      ],
      "execution_count": null,
      "outputs": [
        {
          "output_type": "display_data",
          "data": {
            "image/png": "[encoded data removed]",
            "text/plain": [
              "<Figure size 1440x432 with 32 Axes>"
            ]
          },
          "metadata": {
            "needs_background": "light"
          }
        }
      ]
    },
    {
      "cell_type": "code",
      "metadata": {
        "id": "1aBhKRtx42Cp"
      },
      "source": [],
      "execution_count": null,
      "outputs": []
    }
  ]
}